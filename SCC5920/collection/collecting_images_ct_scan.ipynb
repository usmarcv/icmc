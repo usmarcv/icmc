{
  "nbformat": 4,
  "nbformat_minor": 0,
  "metadata": {
    "colab": {
      "name": "collecting-images-ct-scan.ipynb",
      "provenance": [],
      "collapsed_sections": []
    },
    "kernelspec": {
      "name": "python3",
      "display_name": "Python 3"
    },
    "language_info": {
      "name": "python"
    },
    "accelerator": "GPU"
  },
  "cells": [
    {
      "cell_type": "code",
      "metadata": {
        "id": "S_oIdDTZUA3y"
      },
      "source": [
        "import pandas as pd\n",
        "import os\n",
        "import shutil"
      ],
      "execution_count": null,
      "outputs": []
    },
    {
      "cell_type": "code",
      "metadata": {
        "colab": {
          "base_uri": "https://localhost:8080/"
        },
        "id": "Cg1iBmecVMRJ",
        "outputId": "df87e8f8-d983-4549-b05c-6fca9a44e70d"
      },
      "source": [
        "#Cloning data\n",
        "!git clone https://github.com/UCSD-AI4H/COVID-CT.git"
      ],
      "execution_count": null,
      "outputs": [
        {
          "output_type": "stream",
          "name": "stdout",
          "text": [
            "Cloning into 'COVID-CT'...\n",
            "remote: Enumerating objects: 5463, done.\u001b[K\n",
            "remote: Counting objects: 100% (4/4), done.\u001b[K\n",
            "remote: Compressing objects: 100% (4/4), done.\u001b[K\n",
            "remote: Total 5463 (delta 0), reused 0 (delta 0), pack-reused 5459\u001b[K\n",
            "Receiving objects: 100% (5463/5463), 1.09 GiB | 25.78 MiB/s, done.\n",
            "Resolving deltas: 100% (360/360), done.\n",
            "Checking out files: 100% (1048/1048), done.\n"
          ]
        }
      ]
    },
    {
      "cell_type": "markdown",
      "metadata": {
        "id": "4vKe7hY5qpAY"
      },
      "source": [
        "## Manipulação de imagens para casos positivos de COVID-19 por meio de Tomografia Computadorizada"
      ]
    },
    {
      "cell_type": "code",
      "metadata": {
        "id": "BrIClYtTUfZJ"
      },
      "source": [
        "#Create the data for positive samples\n",
        "FILE_PATH = \"/content/COVID-CT/COVID-CT-MetaInfo.xlsx\""
      ],
      "execution_count": null,
      "outputs": []
    },
    {
      "cell_type": "code",
      "metadata": {
        "colab": {
          "base_uri": "https://localhost:8080/"
        },
        "id": "fUR0BzFJU3gp",
        "outputId": "047f47bf-f768-404f-d96a-1c391562910f"
      },
      "source": [
        "df = pd.read_excel(FILE_PATH)\n",
        "print(df.shape)"
      ],
      "execution_count": null,
      "outputs": [
        {
          "output_type": "stream",
          "name": "stdout",
          "text": [
            "(350, 11)\n"
          ]
        }
      ]
    },
    {
      "cell_type": "code",
      "metadata": {
        "colab": {
          "base_uri": "https://localhost:8080/",
          "height": 310
        },
        "id": "UU_DwYB3Vh0W",
        "outputId": "03f03ec9-5bda-4bf1-80a8-4b94b2deb176"
      },
      "source": [
        "df.head()"
      ],
      "execution_count": null,
      "outputs": [
        {
          "output_type": "execute_result",
          "data": {
            "text/html": [
              "<div>\n",
              "<style scoped>\n",
              "    .dataframe tbody tr th:only-of-type {\n",
              "        vertical-align: middle;\n",
              "    }\n",
              "\n",
              "    .dataframe tbody tr th {\n",
              "        vertical-align: top;\n",
              "    }\n",
              "\n",
              "    .dataframe thead th {\n",
              "        text-align: right;\n",
              "    }\n",
              "</style>\n",
              "<table border=\"1\" class=\"dataframe\">\n",
              "  <thead>\n",
              "    <tr style=\"text-align: right;\">\n",
              "      <th></th>\n",
              "      <th>File name</th>\n",
              "      <th>Patient ID</th>\n",
              "      <th>Age</th>\n",
              "      <th>Gender</th>\n",
              "      <th>Location</th>\n",
              "      <th>Medical history</th>\n",
              "      <th>Time</th>\n",
              "      <th>Severity</th>\n",
              "      <th>Other diseases</th>\n",
              "      <th>DOI</th>\n",
              "      <th>Captions</th>\n",
              "    </tr>\n",
              "  </thead>\n",
              "  <tbody>\n",
              "    <tr>\n",
              "      <th>0</th>\n",
              "      <td>2020.01.24.919183-p27-132.png</td>\n",
              "      <td>Patient 1</td>\n",
              "      <td>41</td>\n",
              "      <td>M</td>\n",
              "      <td>Wuhan, China</td>\n",
              "      <td>no history of hepatitis, tuberculosis or diabe...</td>\n",
              "      <td>day 6 after the onset of illness</td>\n",
              "      <td>Chest tightness, unproductive cough, pain and ...</td>\n",
              "      <td>NaN</td>\n",
              "      <td>NaN</td>\n",
              "      <td>['Figure 1. Chest radiographs of patient 1. a....</td>\n",
              "    </tr>\n",
              "    <tr>\n",
              "      <th>1</th>\n",
              "      <td>2020.01.24.919183-p27-133.png</td>\n",
              "      <td>Patient 1</td>\n",
              "      <td>41</td>\n",
              "      <td>M</td>\n",
              "      <td>Wuhan, China</td>\n",
              "      <td>no history of hepatitis, tuberculosis or diabe...</td>\n",
              "      <td>day 6 after the onset of illness</td>\n",
              "      <td>same as above</td>\n",
              "      <td>NaN</td>\n",
              "      <td>NaN</td>\n",
              "      <td>['Figure 1. Chest radiographs of patient 1. a....</td>\n",
              "    </tr>\n",
              "    <tr>\n",
              "      <th>2</th>\n",
              "      <td>2020.01.24.919183-p27-134.png</td>\n",
              "      <td>Patient 1</td>\n",
              "      <td>41</td>\n",
              "      <td>M</td>\n",
              "      <td>Wuhan, China</td>\n",
              "      <td>no history of hepatitis, tuberculosis or diabe...</td>\n",
              "      <td>day 6 after the onset of illness</td>\n",
              "      <td>same as above</td>\n",
              "      <td>NaN</td>\n",
              "      <td>NaN</td>\n",
              "      <td>['Figure 1. Chest radiographs of patient 1. a....</td>\n",
              "    </tr>\n",
              "    <tr>\n",
              "      <th>3</th>\n",
              "      <td>2020.01.24.919183-p27-135.png</td>\n",
              "      <td>Patient 1</td>\n",
              "      <td>41</td>\n",
              "      <td>M</td>\n",
              "      <td>Wuhan, China</td>\n",
              "      <td>no history of hepatitis, tuberculosis or diabe...</td>\n",
              "      <td>day 6 after the onset of illness</td>\n",
              "      <td>same as above</td>\n",
              "      <td>NaN</td>\n",
              "      <td>NaN</td>\n",
              "      <td>['Figure 1. Chest radiographs of patient 1. a....</td>\n",
              "    </tr>\n",
              "    <tr>\n",
              "      <th>4</th>\n",
              "      <td>2020.02.10.20021584-p6-52%0.png</td>\n",
              "      <td>Patient 2</td>\n",
              "      <td>50</td>\n",
              "      <td>M</td>\n",
              "      <td>Beijing, China</td>\n",
              "      <td>NaN</td>\n",
              "      <td>Illness Day 8, Hospital Day 0</td>\n",
              "      <td>Early stage: Ground glass shadow in multiple l...</td>\n",
              "      <td>NaN</td>\n",
              "      <td>NaN</td>\n",
              "      <td>['Figure 1. A 50-year-old man with 2019 novel ...</td>\n",
              "    </tr>\n",
              "  </tbody>\n",
              "</table>\n",
              "</div>"
            ],
            "text/plain": [
              "                         File name  ...                                           Captions\n",
              "0    2020.01.24.919183-p27-132.png  ...  ['Figure 1. Chest radiographs of patient 1. a....\n",
              "1    2020.01.24.919183-p27-133.png  ...  ['Figure 1. Chest radiographs of patient 1. a....\n",
              "2    2020.01.24.919183-p27-134.png  ...  ['Figure 1. Chest radiographs of patient 1. a....\n",
              "3    2020.01.24.919183-p27-135.png  ...  ['Figure 1. Chest radiographs of patient 1. a....\n",
              "4  2020.02.10.20021584-p6-52%0.png  ...  ['Figure 1. A 50-year-old man with 2019 novel ...\n",
              "\n",
              "[5 rows x 11 columns]"
            ]
          },
          "metadata": {},
          "execution_count": 5
        }
      ]
    },
    {
      "cell_type": "code",
      "metadata": {
        "colab": {
          "base_uri": "https://localhost:8080/"
        },
        "id": "y0OuKOYYqHwX",
        "outputId": "547d138c-b588-406a-f49e-83ddc4ccf995"
      },
      "source": [
        "#Crete folder dataset-collect-ct\n",
        "\n",
        "DATA = \"/content/data-collect-ct\"\n",
        "COVID = \"/content/data-collect-ct/COVID-19\"\n",
        "NON = \"/content/data-collect-ct/Non-COVID-19\"\n",
        "\n",
        "if not os.path.exists(DATA):\n",
        "  os.mkdir(DATA)\n",
        "  print(\"Data folder created!\")\n",
        "\n",
        "if not os.path.exists(COVID):\n",
        "  os.mkdir(COVID)\n",
        "  print(\"COVID folder created!\")\n",
        "\n",
        "if not os.path.exists(NON):\n",
        "  os.mkdir(NON)\n",
        "  print(\"Non-COVID-19 folder created!\")"
      ],
      "execution_count": null,
      "outputs": [
        {
          "output_type": "stream",
          "name": "stdout",
          "text": [
            "Data folder created!\n",
            "COVID folder created!\n",
            "Non-COVID-19 folder created!\n"
          ]
        }
      ]
    },
    {
      "cell_type": "code",
      "metadata": {
        "id": "3U-iAxcurUME"
      },
      "source": [
        "import zipfile as zf\n",
        "\n",
        "IMAGE_PATH_COVID = \"/content/COVID-CT/Images-processed/CT_COVID.zip\"\n",
        "IMAGE_PATH_NON = \"/content/COVID-CT/Images-processed/CT_NonCOVID.zip\"\n",
        "\n",
        "#For COVID-19\n",
        "with zf.ZipFile(IMAGE_PATH_COVID, 'r') as zip_ref:\n",
        "    zip_ref.extractall(COVID)\n",
        "\n",
        "#For Non-COVID-19\n",
        "with zf.ZipFile(IMAGE_PATH_NON, 'r') as zip_ref:\n",
        "    zip_ref.extractall(NON)"
      ],
      "execution_count": null,
      "outputs": []
    },
    {
      "cell_type": "code",
      "metadata": {
        "colab": {
          "base_uri": "https://localhost:8080/"
        },
        "id": "TSBpam6ftavW",
        "outputId": "647f969c-e541-42e7-c800-bae207fc8f54"
      },
      "source": [
        "#Organizing the data in a new folder\n",
        "\n",
        "DATASET = \"/content/dataset-ct/\"\n",
        "COVID = \"/content/dataset-ct/COVID-19\"\n",
        "NON = \"/content/dataset-ct/Non-COVID-19\"\n",
        "\n",
        "if not os.path.exists(DATASET):\n",
        "  os.mkdir(DATASET)\n",
        "  print(\"Dataset folder created!\")\n",
        "\n",
        "if not os.path.exists(COVID):\n",
        "  os.mkdir(COVID)\n",
        "  print(\"COVID-19 CT folder created!\")\n",
        "\n",
        "if not os.path.exists(NON):\n",
        "  os.mkdir(NON)\n",
        "  print(\"Non-COVID-19 CT folder created!\")"
      ],
      "execution_count": null,
      "outputs": [
        {
          "output_type": "stream",
          "name": "stdout",
          "text": [
            "Dataset folder created!\n",
            "COVID-19 CT folder created!\n",
            "Non-COVID-19 CT folder created!\n"
          ]
        }
      ]
    },
    {
      "cell_type": "markdown",
      "metadata": {
        "id": "-uKn0AlGzst5"
      },
      "source": [
        "Organizando imagens de COVID-19 nas pastas"
      ]
    },
    {
      "cell_type": "code",
      "metadata": {
        "id": "KvxRNyeMomCP"
      },
      "source": [
        "import random\n",
        "\n",
        "\n",
        "IMAGE_FILE_PATH = \"/content/data-collect-ct/COVID-19/CT_COVID\"\n",
        "TARGET_COVID_DIR = \"/content/dataset-ct/COVID-19\""
      ],
      "execution_count": null,
      "outputs": []
    },
    {
      "cell_type": "code",
      "metadata": {
        "id": "8QCxqz1nqpCK"
      },
      "source": [
        "image_names = os.listdir(IMAGE_FILE_PATH)"
      ],
      "execution_count": null,
      "outputs": []
    },
    {
      "cell_type": "code",
      "metadata": {
        "id": "818bdS3Gqu-a"
      },
      "source": [
        "random.shuffle(image_names)"
      ],
      "execution_count": null,
      "outputs": []
    },
    {
      "cell_type": "code",
      "metadata": {
        "id": "2b7MtRydqzJo",
        "colab": {
          "base_uri": "https://localhost:8080/"
        },
        "outputId": "5bfff3af-14c8-42d6-a92b-bb710ae2ffba"
      },
      "source": [
        "#Number of moved images from COVID-19\n",
        "covid = 196\n",
        "\n",
        "for i in range(covid):\n",
        "  image_name = image_names[i]\n",
        "  image_path = os.path.join(IMAGE_FILE_PATH, image_name)\n",
        "  target_path = os.path.join(TARGET_COVID_DIR, image_name)\n",
        "  shutil.copy2(image_path,target_path)\n",
        "  print(\"Copying random image: \", i)"
      ],
      "execution_count": null,
      "outputs": [
        {
          "output_type": "stream",
          "name": "stdout",
          "text": [
            "Copying random image:  0\n",
            "Copying random image:  1\n",
            "Copying random image:  2\n",
            "Copying random image:  3\n",
            "Copying random image:  4\n",
            "Copying random image:  5\n",
            "Copying random image:  6\n",
            "Copying random image:  7\n",
            "Copying random image:  8\n",
            "Copying random image:  9\n",
            "Copying random image:  10\n",
            "Copying random image:  11\n",
            "Copying random image:  12\n",
            "Copying random image:  13\n",
            "Copying random image:  14\n",
            "Copying random image:  15\n",
            "Copying random image:  16\n",
            "Copying random image:  17\n",
            "Copying random image:  18\n",
            "Copying random image:  19\n",
            "Copying random image:  20\n",
            "Copying random image:  21\n",
            "Copying random image:  22\n",
            "Copying random image:  23\n",
            "Copying random image:  24\n",
            "Copying random image:  25\n",
            "Copying random image:  26\n",
            "Copying random image:  27\n",
            "Copying random image:  28\n",
            "Copying random image:  29\n",
            "Copying random image:  30\n",
            "Copying random image:  31\n",
            "Copying random image:  32\n",
            "Copying random image:  33\n",
            "Copying random image:  34\n",
            "Copying random image:  35\n",
            "Copying random image:  36\n",
            "Copying random image:  37\n",
            "Copying random image:  38\n",
            "Copying random image:  39\n",
            "Copying random image:  40\n",
            "Copying random image:  41\n",
            "Copying random image:  42\n",
            "Copying random image:  43\n",
            "Copying random image:  44\n",
            "Copying random image:  45\n",
            "Copying random image:  46\n",
            "Copying random image:  47\n",
            "Copying random image:  48\n",
            "Copying random image:  49\n",
            "Copying random image:  50\n",
            "Copying random image:  51\n",
            "Copying random image:  52\n",
            "Copying random image:  53\n",
            "Copying random image:  54\n",
            "Copying random image:  55\n",
            "Copying random image:  56\n",
            "Copying random image:  57\n",
            "Copying random image:  58\n",
            "Copying random image:  59\n",
            "Copying random image:  60\n",
            "Copying random image:  61\n",
            "Copying random image:  62\n",
            "Copying random image:  63\n",
            "Copying random image:  64\n",
            "Copying random image:  65\n",
            "Copying random image:  66\n",
            "Copying random image:  67\n",
            "Copying random image:  68\n",
            "Copying random image:  69\n",
            "Copying random image:  70\n",
            "Copying random image:  71\n",
            "Copying random image:  72\n",
            "Copying random image:  73\n",
            "Copying random image:  74\n",
            "Copying random image:  75\n",
            "Copying random image:  76\n",
            "Copying random image:  77\n",
            "Copying random image:  78\n",
            "Copying random image:  79\n",
            "Copying random image:  80\n",
            "Copying random image:  81\n",
            "Copying random image:  82\n",
            "Copying random image:  83\n",
            "Copying random image:  84\n",
            "Copying random image:  85\n",
            "Copying random image:  86\n",
            "Copying random image:  87\n",
            "Copying random image:  88\n",
            "Copying random image:  89\n",
            "Copying random image:  90\n",
            "Copying random image:  91\n",
            "Copying random image:  92\n",
            "Copying random image:  93\n",
            "Copying random image:  94\n",
            "Copying random image:  95\n",
            "Copying random image:  96\n",
            "Copying random image:  97\n",
            "Copying random image:  98\n",
            "Copying random image:  99\n",
            "Copying random image:  100\n",
            "Copying random image:  101\n",
            "Copying random image:  102\n",
            "Copying random image:  103\n",
            "Copying random image:  104\n",
            "Copying random image:  105\n",
            "Copying random image:  106\n",
            "Copying random image:  107\n",
            "Copying random image:  108\n",
            "Copying random image:  109\n",
            "Copying random image:  110\n",
            "Copying random image:  111\n",
            "Copying random image:  112\n",
            "Copying random image:  113\n",
            "Copying random image:  114\n",
            "Copying random image:  115\n",
            "Copying random image:  116\n",
            "Copying random image:  117\n",
            "Copying random image:  118\n",
            "Copying random image:  119\n",
            "Copying random image:  120\n",
            "Copying random image:  121\n",
            "Copying random image:  122\n",
            "Copying random image:  123\n",
            "Copying random image:  124\n",
            "Copying random image:  125\n",
            "Copying random image:  126\n",
            "Copying random image:  127\n",
            "Copying random image:  128\n",
            "Copying random image:  129\n",
            "Copying random image:  130\n",
            "Copying random image:  131\n",
            "Copying random image:  132\n",
            "Copying random image:  133\n",
            "Copying random image:  134\n",
            "Copying random image:  135\n",
            "Copying random image:  136\n",
            "Copying random image:  137\n",
            "Copying random image:  138\n",
            "Copying random image:  139\n",
            "Copying random image:  140\n",
            "Copying random image:  141\n",
            "Copying random image:  142\n",
            "Copying random image:  143\n",
            "Copying random image:  144\n",
            "Copying random image:  145\n",
            "Copying random image:  146\n",
            "Copying random image:  147\n",
            "Copying random image:  148\n",
            "Copying random image:  149\n",
            "Copying random image:  150\n",
            "Copying random image:  151\n",
            "Copying random image:  152\n",
            "Copying random image:  153\n",
            "Copying random image:  154\n",
            "Copying random image:  155\n",
            "Copying random image:  156\n",
            "Copying random image:  157\n",
            "Copying random image:  158\n",
            "Copying random image:  159\n",
            "Copying random image:  160\n",
            "Copying random image:  161\n",
            "Copying random image:  162\n",
            "Copying random image:  163\n",
            "Copying random image:  164\n",
            "Copying random image:  165\n",
            "Copying random image:  166\n",
            "Copying random image:  167\n",
            "Copying random image:  168\n",
            "Copying random image:  169\n",
            "Copying random image:  170\n",
            "Copying random image:  171\n",
            "Copying random image:  172\n",
            "Copying random image:  173\n",
            "Copying random image:  174\n",
            "Copying random image:  175\n",
            "Copying random image:  176\n",
            "Copying random image:  177\n",
            "Copying random image:  178\n",
            "Copying random image:  179\n",
            "Copying random image:  180\n",
            "Copying random image:  181\n",
            "Copying random image:  182\n",
            "Copying random image:  183\n",
            "Copying random image:  184\n",
            "Copying random image:  185\n",
            "Copying random image:  186\n",
            "Copying random image:  187\n",
            "Copying random image:  188\n",
            "Copying random image:  189\n",
            "Copying random image:  190\n",
            "Copying random image:  191\n",
            "Copying random image:  192\n",
            "Copying random image:  193\n",
            "Copying random image:  194\n",
            "Copying random image:  195\n"
          ]
        }
      ]
    },
    {
      "cell_type": "code",
      "metadata": {
        "colab": {
          "base_uri": "https://localhost:8080/"
        },
        "id": "mgCOrgm29W84",
        "outputId": "20311f4b-a2fc-4d02-bae3-3f5679dbfec9"
      },
      "source": [
        "IMAGE_FILE_PATH = \"/content/data-collect-ct/Non-COVID-19/CT_NonCOVID\"\n",
        "TARGET_NON_DIR = \"/content/dataset-ct/Non-COVID-19\"\n",
        "\n",
        "image_names = os.listdir(IMAGE_FILE_PATH)\n",
        "random.shuffle(image_names)\n",
        "\n",
        "#Number of moved images from Non-COVID-19\n",
        "non = 196\n",
        "\n",
        "for i in range(non):\n",
        "  image_name = image_names[i]\n",
        "  image_path = os.path.join(IMAGE_FILE_PATH, image_name)\n",
        "  target_path = os.path.join(TARGET_NON_DIR, image_name)\n",
        "  shutil.copy2(image_path,target_path)\n",
        "  print(\"Copying random image: \", i)"
      ],
      "execution_count": null,
      "outputs": [
        {
          "output_type": "stream",
          "name": "stdout",
          "text": [
            "Copying random image:  0\n",
            "Copying random image:  1\n",
            "Copying random image:  2\n",
            "Copying random image:  3\n",
            "Copying random image:  4\n",
            "Copying random image:  5\n",
            "Copying random image:  6\n",
            "Copying random image:  7\n",
            "Copying random image:  8\n",
            "Copying random image:  9\n",
            "Copying random image:  10\n",
            "Copying random image:  11\n",
            "Copying random image:  12\n",
            "Copying random image:  13\n",
            "Copying random image:  14\n",
            "Copying random image:  15\n",
            "Copying random image:  16\n",
            "Copying random image:  17\n",
            "Copying random image:  18\n",
            "Copying random image:  19\n",
            "Copying random image:  20\n",
            "Copying random image:  21\n",
            "Copying random image:  22\n",
            "Copying random image:  23\n",
            "Copying random image:  24\n",
            "Copying random image:  25\n",
            "Copying random image:  26\n",
            "Copying random image:  27\n",
            "Copying random image:  28\n",
            "Copying random image:  29\n",
            "Copying random image:  30\n",
            "Copying random image:  31\n",
            "Copying random image:  32\n",
            "Copying random image:  33\n",
            "Copying random image:  34\n",
            "Copying random image:  35\n",
            "Copying random image:  36\n",
            "Copying random image:  37\n",
            "Copying random image:  38\n",
            "Copying random image:  39\n",
            "Copying random image:  40\n",
            "Copying random image:  41\n",
            "Copying random image:  42\n",
            "Copying random image:  43\n",
            "Copying random image:  44\n",
            "Copying random image:  45\n",
            "Copying random image:  46\n",
            "Copying random image:  47\n",
            "Copying random image:  48\n",
            "Copying random image:  49\n",
            "Copying random image:  50\n",
            "Copying random image:  51\n",
            "Copying random image:  52\n",
            "Copying random image:  53\n",
            "Copying random image:  54\n",
            "Copying random image:  55\n",
            "Copying random image:  56\n",
            "Copying random image:  57\n",
            "Copying random image:  58\n",
            "Copying random image:  59\n",
            "Copying random image:  60\n",
            "Copying random image:  61\n",
            "Copying random image:  62\n",
            "Copying random image:  63\n",
            "Copying random image:  64\n",
            "Copying random image:  65\n",
            "Copying random image:  66\n",
            "Copying random image:  67\n",
            "Copying random image:  68\n",
            "Copying random image:  69\n",
            "Copying random image:  70\n",
            "Copying random image:  71\n",
            "Copying random image:  72\n",
            "Copying random image:  73\n",
            "Copying random image:  74\n",
            "Copying random image:  75\n",
            "Copying random image:  76\n",
            "Copying random image:  77\n",
            "Copying random image:  78\n",
            "Copying random image:  79\n",
            "Copying random image:  80\n",
            "Copying random image:  81\n",
            "Copying random image:  82\n",
            "Copying random image:  83\n",
            "Copying random image:  84\n",
            "Copying random image:  85\n",
            "Copying random image:  86\n",
            "Copying random image:  87\n",
            "Copying random image:  88\n",
            "Copying random image:  89\n",
            "Copying random image:  90\n",
            "Copying random image:  91\n",
            "Copying random image:  92\n",
            "Copying random image:  93\n",
            "Copying random image:  94\n",
            "Copying random image:  95\n",
            "Copying random image:  96\n",
            "Copying random image:  97\n",
            "Copying random image:  98\n",
            "Copying random image:  99\n",
            "Copying random image:  100\n",
            "Copying random image:  101\n",
            "Copying random image:  102\n",
            "Copying random image:  103\n",
            "Copying random image:  104\n",
            "Copying random image:  105\n",
            "Copying random image:  106\n",
            "Copying random image:  107\n",
            "Copying random image:  108\n",
            "Copying random image:  109\n",
            "Copying random image:  110\n",
            "Copying random image:  111\n",
            "Copying random image:  112\n",
            "Copying random image:  113\n",
            "Copying random image:  114\n",
            "Copying random image:  115\n",
            "Copying random image:  116\n",
            "Copying random image:  117\n",
            "Copying random image:  118\n",
            "Copying random image:  119\n",
            "Copying random image:  120\n",
            "Copying random image:  121\n",
            "Copying random image:  122\n",
            "Copying random image:  123\n",
            "Copying random image:  124\n",
            "Copying random image:  125\n",
            "Copying random image:  126\n",
            "Copying random image:  127\n",
            "Copying random image:  128\n",
            "Copying random image:  129\n",
            "Copying random image:  130\n",
            "Copying random image:  131\n",
            "Copying random image:  132\n",
            "Copying random image:  133\n",
            "Copying random image:  134\n",
            "Copying random image:  135\n",
            "Copying random image:  136\n",
            "Copying random image:  137\n",
            "Copying random image:  138\n",
            "Copying random image:  139\n",
            "Copying random image:  140\n",
            "Copying random image:  141\n",
            "Copying random image:  142\n",
            "Copying random image:  143\n",
            "Copying random image:  144\n",
            "Copying random image:  145\n",
            "Copying random image:  146\n",
            "Copying random image:  147\n",
            "Copying random image:  148\n",
            "Copying random image:  149\n",
            "Copying random image:  150\n",
            "Copying random image:  151\n",
            "Copying random image:  152\n",
            "Copying random image:  153\n",
            "Copying random image:  154\n",
            "Copying random image:  155\n",
            "Copying random image:  156\n",
            "Copying random image:  157\n",
            "Copying random image:  158\n",
            "Copying random image:  159\n",
            "Copying random image:  160\n",
            "Copying random image:  161\n",
            "Copying random image:  162\n",
            "Copying random image:  163\n",
            "Copying random image:  164\n",
            "Copying random image:  165\n",
            "Copying random image:  166\n",
            "Copying random image:  167\n",
            "Copying random image:  168\n",
            "Copying random image:  169\n",
            "Copying random image:  170\n",
            "Copying random image:  171\n",
            "Copying random image:  172\n",
            "Copying random image:  173\n",
            "Copying random image:  174\n",
            "Copying random image:  175\n",
            "Copying random image:  176\n",
            "Copying random image:  177\n",
            "Copying random image:  178\n",
            "Copying random image:  179\n",
            "Copying random image:  180\n",
            "Copying random image:  181\n",
            "Copying random image:  182\n",
            "Copying random image:  183\n",
            "Copying random image:  184\n",
            "Copying random image:  185\n",
            "Copying random image:  186\n",
            "Copying random image:  187\n",
            "Copying random image:  188\n",
            "Copying random image:  189\n",
            "Copying random image:  190\n",
            "Copying random image:  191\n",
            "Copying random image:  192\n",
            "Copying random image:  193\n",
            "Copying random image:  194\n",
            "Copying random image:  195\n"
          ]
        }
      ]
    },
    {
      "cell_type": "code",
      "metadata": {
        "colab": {
          "base_uri": "https://localhost:8080/"
        },
        "id": "xGYcB6gI-Dtl",
        "outputId": "96eaff67-16c2-4545-83fd-14bbb1109bb9"
      },
      "source": [
        "#Mounting Google Drive\n",
        "from google.colab import drive\n",
        "drive.mount('/content/drive')"
      ],
      "execution_count": null,
      "outputs": [
        {
          "output_type": "stream",
          "name": "stdout",
          "text": [
            "Mounted at /content/drive\n"
          ]
        }
      ]
    },
    {
      "cell_type": "code",
      "metadata": {
        "id": "FsPyB-GB_ePB",
        "colab": {
          "base_uri": "https://localhost:8080/"
        },
        "outputId": "af760503-744c-42a0-e553-2fbab35d99d3"
      },
      "source": [
        "#Copying to the drive\n",
        "\n",
        "!cp /content/dataset-ct-new /content/drive/MyDrive/data/ -r"
      ],
      "execution_count": null,
      "outputs": [
        {
          "output_type": "stream",
          "name": "stdout",
          "text": [
            "cp: cannot stat '/content/dataset-ct-new': No such file or directory\n"
          ]
        }
      ]
    }
  ]
}